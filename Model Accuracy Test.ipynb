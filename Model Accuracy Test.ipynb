{
 "cells": [
  {
   "cell_type": "markdown",
   "metadata": {},
   "source": [
    "In this program, we are going to test several models to see which is best for a categorical dataset."
   ]
  },
  {
   "cell_type": "code",
   "execution_count": 3,
   "metadata": {},
   "outputs": [],
   "source": [
    "# Import libraries.\n",
    "import numpy as np\n",
    "import matplotlib.pyplot as plt"
   ]
  },
  {
   "cell_type": "code",
   "execution_count": 4,
   "metadata": {},
   "outputs": [],
   "source": [
    "#Load the dataset and split into training (75%) and test (25%) sets.\n",
    "from sklearn.datasets import load_digits\n",
    "df = load_digits()\n",
    "X = df.data\n",
    "y = df.target\n",
    "\n",
    "from sklearn.model_selection import train_test_split\n",
    "X_train, X_test, y_train, y_test = train_test_split(X, y, test_size = 0.25, random_state = 0)\n",
    "\n",
    "#Normalizing the features\n",
    "from sklearn.preprocessing import StandardScaler\n",
    "sc_X = StandardScaler()\n",
    "X_train = sc_X.fit_transform(X_train)\n",
    "X_test = sc_X.transform(X_test)"
   ]
  },
  {
   "cell_type": "markdown",
   "metadata": {},
   "source": [
    "1.) Train Logistic Regression model on the dataset and print the accuracy of the model using the score method."
   ]
  },
  {
   "cell_type": "code",
   "execution_count": 5,
   "metadata": {},
   "outputs": [
    {
     "name": "stdout",
     "output_type": "stream",
     "text": [
      "Logistic Regression Accuracy Score = 0.9622222222222222\n"
     ]
    },
    {
     "name": "stderr",
     "output_type": "stream",
     "text": [
      "C:\\Users\\16123\\Anaconda3\\lib\\site-packages\\sklearn\\linear_model\\logistic.py:432: FutureWarning: Default solver will be changed to 'lbfgs' in 0.22. Specify a solver to silence this warning.\n",
      "  FutureWarning)\n"
     ]
    }
   ],
   "source": [
    "#Fitting Logistic Regression to Training Set\n",
    "from sklearn.linear_model import LogisticRegression\n",
    "classifierObj = LogisticRegression(random_state=0, multi_class = 'auto')\n",
    "classifierObj.fit(X_train, y_train)\n",
    "\n",
    "#Making predictions on the Test Set\n",
    "y_pred = classifierObj.predict(X_test)\n",
    "\n",
    "#Evaluating the predictions using Accuracy Score method\n",
    "from sklearn.metrics import accuracy_score\n",
    "a = accuracy_score(y_test, y_pred)\n",
    "print('Logistic Regression Accuracy Score =', a)"
   ]
  },
  {
   "cell_type": "markdown",
   "metadata": {},
   "source": [
    "2.) Train SVM with linear kernel and print the accuracy of the model."
   ]
  },
  {
   "cell_type": "code",
   "execution_count": 6,
   "metadata": {},
   "outputs": [
    {
     "name": "stdout",
     "output_type": "stream",
     "text": [
      "SVM Linear kernel Accuracy Score = 0.9733333333333334\n"
     ]
    }
   ],
   "source": [
    "#Fitting Classifier to Training Set. Create a classifier object here and call it classifierObj\n",
    "from sklearn.svm import SVC\n",
    "classifierObj = SVC(kernel = 'linear')\n",
    "classifierObj.fit(X_train, y_train)\n",
    "\n",
    "\n",
    "#Making predictions on the Test Set\n",
    "y_pred = classifierObj.predict(X_test)\n",
    "\n",
    "#Evaluating the predictions using Accuracy Score method\n",
    "from sklearn.metrics import accuracy_score\n",
    "a = accuracy_score(y_test, y_pred)\n",
    "print('SVM Linear kernel Accuracy Score =',a)"
   ]
  },
  {
   "cell_type": "markdown",
   "metadata": {},
   "source": [
    "3.) For the SVM with poly kernel, we will write a loop trying different values of degree and train to find the kernel with the best accuracy. Also, we'll plot a graph and analyze the trend.\n",
    "    * What value of degree gives you the best accuracy?"
   ]
  },
  {
   "cell_type": "code",
   "execution_count": 7,
   "metadata": {},
   "outputs": [
    {
     "name": "stdout",
     "output_type": "stream",
     "text": [
      "degree = 1 , Accuracy Score = 0.98\n",
      "degree = 2 , Accuracy Score = 0.9822222222222222\n",
      "degree = 3 , Accuracy Score = 0.9488888888888889\n"
     ]
    },
    {
     "data": {
      "image/png": "[encoded data removed]",
      "text/plain": [
       "<Figure size 432x288 with 1 Axes>"
      ]
     },
     "metadata": {
      "needs_background": "light"
     },
     "output_type": "display_data"
    }
   ],
   "source": [
    "for degree in range(10): \n",
    "    scores = []\n",
    "    \n",
    "    #Fitting Classifier to Training Set. Create a classifier object here and call it classifierObj\n",
    "    from sklearn.svm import SVC\n",
    "    model = classifierObj = SVC(kernel = 'poly', degree = degree, gamma = 'auto')\n",
    "    classifierObj.fit(X_train, y_train)\n",
    "\n",
    "\n",
    "    #Making predictions on the Test Set\n",
    "    y_pred = classifierObj.predict(X_test)\n",
    "\n",
    "    #Evaluating the predictions using Accuracy Score method\n",
    "    from sklearn.metrics import accuracy_score\n",
    "    accuracy = accuracy_score(y_test, y_pred)\n",
    "    scores.append(accuracy)\n",
    "    \n",
    "    if accuracy >= 0.8:\n",
    "        print('degree =', degree, ', Accuracy Score =', accuracy)\n",
    "        \n",
    "    #Plot degree vs accuracy score\n",
    "    plt.scatter(degree, scores, color = 'red')\n",
    "    plt.title('Degree vs Accuracy')\n",
    "    plt.xlabel('Degree')\n",
    "    plt.ylabel('Accuracy')\n",
    "plt.show()"
   ]
  },
  {
   "cell_type": "markdown",
   "metadata": {},
   "source": [
    "The first three degrees gives you accuracy above 90%. Degree 2 gives you the best accuracy of 98.2%, then degree 1 of 98.0% and finally degree 3 gives you accuracy of 94.8%. Degree 4 and greater gives you decreasing accuracy. As degree increases, accuracy decreases."
   ]
  },
  {
   "cell_type": "markdown",
   "metadata": {},
   "source": [
    "4.) Train SVM with RBF kernel and print the accuracy of the model."
   ]
  },
  {
   "cell_type": "code",
   "execution_count": 8,
   "metadata": {},
   "outputs": [
    {
     "name": "stdout",
     "output_type": "stream",
     "text": [
      "SVM with RBF kernel Accuracy Score = 0.9844444444444445\n"
     ]
    }
   ],
   "source": [
    "#Fitting Classifier to Training Set. Create a classifier object here and call it classifierObj\n",
    "from sklearn.svm import SVC\n",
    "classifierObj = SVC(kernel = 'rbf', gamma = 'auto')\n",
    "classifierObj.fit(X_train, y_train)\n",
    "\n",
    "\n",
    "#Making predictions on the Test Set\n",
    "y_pred = classifierObj.predict(X_test)\n",
    "\n",
    "#Evaluating the predictions using Accuracy Score method\n",
    "from sklearn.metrics import accuracy_score\n",
    "a = accuracy_score(y_test, y_pred)\n",
    "print('SVM with RBF kernel Accuracy Score =',a)"
   ]
  },
  {
   "cell_type": "markdown",
   "metadata": {},
   "source": [
    "5.) For the classification using k-NN, we will write a loop trying different values of k and we'll plot a graph to analyze the trend.\n",
    "    * What value of k gives you the best accuracy?"
   ]
  },
  {
   "cell_type": "code",
   "execution_count": 9,
   "metadata": {},
   "outputs": [
    {
     "name": "stdout",
     "output_type": "stream",
     "text": [
      "k = 1 ,  Accuracy Score = 0.9733333333333334\n",
      "k = 3 ,  Accuracy Score = 0.9711111111111111\n",
      "k = 5 ,  Accuracy Score = 0.9733333333333334\n"
     ]
    },
    {
     "data": {
      "image/png": "[encoded data removed]",
      "text/plain": [
       "<Figure size 432x288 with 1 Axes>"
      ]
     },
     "metadata": {
      "needs_background": "light"
     },
     "output_type": "display_data"
    }
   ],
   "source": [
    "for k in range(1,31):\n",
    "    scores = []\n",
    "    \n",
    "    #Fitting Classifier to Training Set. Create a classifier object here and call it classifierObj\n",
    "    from sklearn.neighbors import KNeighborsClassifier\n",
    "    classifierObj = KNeighborsClassifier(n_neighbors=k, p=2, metric='minkowski')\n",
    "    classifierObj.fit(X_train, y_train)\n",
    "\n",
    "    #Making predictions on the Test Set\n",
    "    y_pred = classifierObj.predict(X_test)\n",
    "\n",
    "    #Evaluating the predictions using Accuracy Score method\n",
    "    from sklearn.metrics import accuracy_score\n",
    "    a = accuracy_score(y_test, y_pred)\n",
    "    scores.append(a)\n",
    "    \n",
    "    if a >= 0.97:\n",
    "        print('k =', k,',  Accuracy Score =',a)\n",
    "    \n",
    "    plt.scatter(k, scores, color = 'pink')\n",
    "    plt.title('K vs Accuracy')\n",
    "    plt.xlabel('K')\n",
    "    plt.ylabel('Accuracy')\n",
    "\n",
    "plt.show()"
   ]
  },
  {
   "cell_type": "markdown",
   "metadata": {},
   "source": [
    "k = 1 and 5 gives the best accuracy of 97.3%. According to the graph, as k increases, accuracy decreases."
   ]
  },
  {
   "cell_type": "markdown",
   "metadata": {},
   "source": [
    "6.) Train Naive Bays Model and print the accuracy of the model."
   ]
  },
  {
   "cell_type": "code",
   "execution_count": 10,
   "metadata": {},
   "outputs": [
    {
     "name": "stdout",
     "output_type": "stream",
     "text": [
      "Naive Bayes Accuracy Score = 0.7733333333333333\n"
     ]
    }
   ],
   "source": [
    "#Fitting Classifier to Training Set. Create a classifier object here and call it classifierObj\n",
    "from sklearn.naive_bayes import GaussianNB\n",
    "classifierObj = GaussianNB()\n",
    "classifierObj.fit(X_train, y_train)\n",
    "\n",
    "\n",
    "#Making predictions on the Test Set\n",
    "y_pred = classifierObj.predict(X_test)\n",
    "\n",
    "#Evaluating the predictions using Accuracy Score method\n",
    "from sklearn.metrics import accuracy_score\n",
    "a = accuracy_score(y_test, y_pred)\n",
    "print('Naive Bayes Accuracy Score =', a)"
   ]
  },
  {
   "cell_type": "markdown",
   "metadata": {},
   "source": [
    "7.) Train Decision Tree and print the accuracy of the model."
   ]
  },
  {
   "cell_type": "code",
   "execution_count": 11,
   "metadata": {},
   "outputs": [
    {
     "name": "stdout",
     "output_type": "stream",
     "text": [
      "Decision Tree Accuracy Score = 0.8488888888888889\n"
     ]
    }
   ],
   "source": [
    "#Fitting Classifier to Training Set. Create a classifier object here and call it classifierObj\n",
    "from sklearn.tree import DecisionTreeClassifier\n",
    "classifierObj = DecisionTreeClassifier(criterion='entropy')\n",
    "classifierObj.fit(X_train,y_train)\n",
    "\n",
    "#Making predictions on the Test Set\n",
    "y_pred = classifierObj.predict(X_test)\n",
    "\n",
    "#Evaluating the predictions using Accuracy Score method\n",
    "from sklearn.metrics import accuracy_score\n",
    "a = accuracy_score(y_test, y_pred)\n",
    "print('Decision Tree Accuracy Score =', a)"
   ]
  },
  {
   "cell_type": "markdown",
   "metadata": {},
   "source": [
    "8.) For the Random Forest, we will write a loop trying different values of n_esitmators plot a graph to analyze the trend.\n",
    "    * What values of n_estimators gives you the best accuracy?"
   ]
  },
  {
   "cell_type": "code",
   "execution_count": 12,
   "metadata": {},
   "outputs": [
    {
     "name": "stdout",
     "output_type": "stream",
     "text": [
      "estimator = 72 , Random Forest Accuracy Score = 0.9822222222222222\n",
      "estimator = 73 , Random Forest Accuracy Score = 0.9822222222222222\n",
      "estimator = 77 , Random Forest Accuracy Score = 0.9822222222222222\n",
      "estimator = 78 , Random Forest Accuracy Score = 0.9822222222222222\n"
     ]
    },
    {
     "data": {
      "image/png": "[encoded data removed]",
      "text/plain": [
       "<Figure size 432x288 with 1 Axes>"
      ]
     },
     "metadata": {
      "needs_background": "light"
     },
     "output_type": "display_data"
    }
   ],
   "source": [
    "for estimator in range(1,101):\n",
    "    scores = []\n",
    "\n",
    "    #Fitting Classifier to Training Set. Create a classifier object here and call it classifierObj\n",
    "    from sklearn.ensemble import RandomForestClassifier\n",
    "    classifierObj = RandomForestClassifier(n_estimators = estimator, random_state = 0)\n",
    "    classifierObj.fit(X_train,y_train)\n",
    "\n",
    "    #Making predictions on the Test Set\n",
    "    y_pred = classifierObj.predict(X_test)\n",
    "\n",
    "    #Evaluating the predictions using Accuracy Score method\n",
    "    from sklearn.metrics import accuracy_score\n",
    "    a = accuracy_score(y_test, y_pred)\n",
    "    scores.append(a)\n",
    "    \n",
    "    if a >= 0.982:\n",
    "        print('estimator =', estimator,', Random Forest Accuracy Score =', a)\n",
    "        \n",
    "    plt.scatter(estimator, scores)\n",
    "    plt.title('Estimators vs Accuracy')\n",
    "    plt.xlabel('Estimators')\n",
    "    plt.ylabel('Accuracy')\n",
    "    \n",
    "plt.show()"
   ]
  },
  {
   "cell_type": "markdown",
   "metadata": {},
   "source": [
    "You can have an inifinite number of estimators, but for the purpose of this demonstration I chose a range of 100 estimators. For this range, the best estimators are 72, 73, 77 and 78 all with a 98.2% accuracy. According to the graph, the more estimators you have, the more likely you will get more accuracy, however accuracy plateau after certain amount of estimators."
   ]
  },
  {
   "cell_type": "markdown",
   "metadata": {},
   "source": [
    "Here are the best accuracy for each model:\n",
    "* Logistic Regression = 0.9622222222222222\n",
    "* SVM with linear kernel = 0.9733333333333334\n",
    "* SVM with poly kernel = 0.9822222222222222\n",
    "* SVM with rbf kernerl = 0.9844444444444445\n",
    "* k-NN = 0.9733333333333334\n",
    "* Naive Bayes = 0.7733333333333333\n",
    "* Decision Tree Classification = 0.8488888888888889\n",
    "* Random Forest Classification = 0.9822222222222222"
   ]
  },
  {
   "cell_type": "markdown",
   "metadata": {},
   "source": [
    "When comparing the accuracy scores of all the models, SVM with rbf kernel produced the highest accuracy score for this dataset."
   ]
  },
  {
   "cell_type": "code",
   "execution_count": null,
   "metadata": {},
   "outputs": [],
   "source": []
  }
 ],
 "metadata": {
  "kernelspec": {
   "display_name": "Python 3",
   "language": "python",
   "name": "python3"
  },
  "language_info": {
   "codemirror_mode": {
    "name": "ipython",
    "version": 3
   },
   "file_extension": ".py",
   "mimetype": "text/x-python",
   "name": "python",
   "nbconvert_exporter": "python",
   "pygments_lexer": "ipython3",
   "version": "3.7.4"
  }
 },
 "nbformat": 4,
 "nbformat_minor": 2
}
